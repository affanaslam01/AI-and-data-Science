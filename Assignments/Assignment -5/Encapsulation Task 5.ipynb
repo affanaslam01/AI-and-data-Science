{
 "cells": [
  {
   "cell_type": "code",
   "execution_count": 58,
   "id": "d6fe4b5a-681a-459a-8860-c063048e1683",
   "metadata": {},
   "outputs": [],
   "source": [
    "class ShoppingCart():\n",
    "    #Constructor\n",
    "    def __init__(self,item):\n",
    "        self.__item=[]\n",
    "    #Instance method\n",
    "    def add_item(self,new_item):\n",
    "        self.__item+=new_item\n",
    "    def remove_item(self,item):\n",
    "        self.__item.remove(item)\n",
    "    def view_cart(self):\n",
    "        return f\"Items = {self.__item}\"\n",
    "        "
   ]
  },
  {
   "cell_type": "code",
   "execution_count": 59,
   "id": "11d9a8b3-3ce7-4242-ad9a-adeab2a4bd06",
   "metadata": {},
   "outputs": [],
   "source": [
    "cart1=ShoppingCart([\"Banana\"])"
   ]
  },
  {
   "cell_type": "code",
   "execution_count": 60,
   "id": "fc9d6d84-1cc9-424c-9990-5d4b9f0cda27",
   "metadata": {},
   "outputs": [
    {
     "data": {
      "text/plain": [
       "'Items = []'"
      ]
     },
     "execution_count": 60,
     "metadata": {},
     "output_type": "execute_result"
    }
   ],
   "source": [
    "cart1.view_cart()"
   ]
  },
  {
   "cell_type": "code",
   "execution_count": 61,
   "id": "8b233498-5f25-4b38-9b30-9b74965be176",
   "metadata": {},
   "outputs": [],
   "source": [
    "cart1.add_item([\"apple\",\"orange\",\"greenfruit\"])"
   ]
  },
  {
   "cell_type": "code",
   "execution_count": 62,
   "id": "6f866eaf-932e-4983-bf85-f541a74f350a",
   "metadata": {},
   "outputs": [],
   "source": [
    "cart1.add_item([\"banana\"])"
   ]
  },
  {
   "cell_type": "code",
   "execution_count": 63,
   "id": "44a75856-2572-44e5-b7ad-c7630da877e1",
   "metadata": {},
   "outputs": [
    {
     "data": {
      "text/plain": [
       "\"Items = ['apple', 'orange', 'greenfruit', 'banana']\""
      ]
     },
     "execution_count": 63,
     "metadata": {},
     "output_type": "execute_result"
    }
   ],
   "source": [
    "cart1.view_cart()"
   ]
  },
  {
   "cell_type": "code",
   "execution_count": 64,
   "id": "249b7a6f-0ce0-46a3-8ec7-3cc6392c0282",
   "metadata": {},
   "outputs": [
    {
     "ename": "ValueError",
     "evalue": "list.remove(x): x not in list",
     "output_type": "error",
     "traceback": [
      "\u001b[1;31m---------------------------------------------------------------------------\u001b[0m",
      "\u001b[1;31mValueError\u001b[0m                                Traceback (most recent call last)",
      "Cell \u001b[1;32mIn[64], line 1\u001b[0m\n\u001b[1;32m----> 1\u001b[0m cart1\u001b[38;5;241m.\u001b[39mremove_item([\u001b[38;5;124m\"\u001b[39m\u001b[38;5;124mapple\u001b[39m\u001b[38;5;124m\"\u001b[39m])\n",
      "Cell \u001b[1;32mIn[58], line 9\u001b[0m, in \u001b[0;36mShoppingCart.remove_item\u001b[1;34m(self, item)\u001b[0m\n\u001b[0;32m      8\u001b[0m \u001b[38;5;28;01mdef\u001b[39;00m\u001b[38;5;250m \u001b[39m\u001b[38;5;21mremove_item\u001b[39m(\u001b[38;5;28mself\u001b[39m,item):\n\u001b[1;32m----> 9\u001b[0m     \u001b[38;5;28mself\u001b[39m\u001b[38;5;241m.\u001b[39m__item\u001b[38;5;241m.\u001b[39mremove(item)\n",
      "\u001b[1;31mValueError\u001b[0m: list.remove(x): x not in list"
     ]
    }
   ],
   "source": [
    "cart1.remove_item([\"apple\"])"
   ]
  },
  {
   "cell_type": "code",
   "execution_count": null,
   "id": "252bdf7e-a5e2-47d2-9a76-df55e3fa3c72",
   "metadata": {},
   "outputs": [],
   "source": []
  },
  {
   "cell_type": "code",
   "execution_count": null,
   "id": "972b8bf9-532b-4b44-8d02-2509213e33f1",
   "metadata": {},
   "outputs": [],
   "source": []
  }
 ],
 "metadata": {
  "kernelspec": {
   "display_name": "Python 3 (ipykernel)",
   "language": "python",
   "name": "python3"
  },
  "language_info": {
   "codemirror_mode": {
    "name": "ipython",
    "version": 3
   },
   "file_extension": ".py",
   "mimetype": "text/x-python",
   "name": "python",
   "nbconvert_exporter": "python",
   "pygments_lexer": "ipython3",
   "version": "3.13.5"
  }
 },
 "nbformat": 4,
 "nbformat_minor": 5
}
