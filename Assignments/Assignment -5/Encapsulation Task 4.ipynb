{
 "cells": [
  {
   "cell_type": "code",
   "execution_count": 24,
   "id": "8fc67586-80e2-43cb-a7c4-08add4f96741",
   "metadata": {},
   "outputs": [],
   "source": [
    "class Employee():\n",
    "    #Constructor\n",
    "    def __init__(self,name,salary):\n",
    "        #Private attributes\n",
    "        self.__name=name\n",
    "        self.__salary=salary\n",
    "    #Instance method\n",
    "    #Getter method\n",
    "    def get_name(self):\n",
    "        return f\"Name: {self.__name}\"\n",
    "    #Setter method\n",
    "    def set_salary(self,salary):\n",
    "        if Employee.validate_salary(salary):\n",
    "            self.__salary=salary\n",
    "            return f\"Salary is updated\"\n",
    "        else:\n",
    "            return f\"Salary must be greater than 0\"\n",
    "    def show_details(self):\n",
    "        print( f\"Name: {self.__name}\\nSalary: {self.__salary}\")\n",
    "    @staticmethod\n",
    "    def validate_salary(salary):\n",
    "        if salary>0:\n",
    "            return True\n",
    "        else:\n",
    "            return False"
   ]
  },
  {
   "cell_type": "code",
   "execution_count": 25,
   "id": "fcc101b7-8246-40e3-bca1-6a83c55ff8d6",
   "metadata": {},
   "outputs": [],
   "source": [
    "employee1=Employee(\"affan\",4000)"
   ]
  },
  {
   "cell_type": "code",
   "execution_count": 26,
   "id": "82366983-5dbc-4a94-9009-0bc9754b5d6a",
   "metadata": {},
   "outputs": [
    {
     "name": "stdout",
     "output_type": "stream",
     "text": [
      "Name: affan\n",
      "Salary: 4000\n"
     ]
    }
   ],
   "source": [
    "employee1.show_details()"
   ]
  },
  {
   "cell_type": "code",
   "execution_count": 31,
   "id": "e405d961-7ccc-4f12-a945-28279e57f668",
   "metadata": {},
   "outputs": [
    {
     "ename": "AttributeError",
     "evalue": "'Employee' object has no attribute 'name'",
     "output_type": "error",
     "traceback": [
      "\u001b[1;31m---------------------------------------------------------------------------\u001b[0m",
      "\u001b[1;31mAttributeError\u001b[0m                            Traceback (most recent call last)",
      "Cell \u001b[1;32mIn[31], line 1\u001b[0m\n\u001b[1;32m----> 1\u001b[0m employee1\u001b[38;5;241m.\u001b[39mname()\n",
      "\u001b[1;31mAttributeError\u001b[0m: 'Employee' object has no attribute 'name'"
     ]
    }
   ],
   "source": [
    "employee1.name()"
   ]
  },
  {
   "cell_type": "code",
   "execution_count": 32,
   "id": "00b35857-48be-4906-a096-534159e249e3",
   "metadata": {},
   "outputs": [
    {
     "data": {
      "text/plain": [
       "'Salary is updated'"
      ]
     },
     "execution_count": 32,
     "metadata": {},
     "output_type": "execute_result"
    }
   ],
   "source": [
    "employee1.set_salary(5000)"
   ]
  },
  {
   "cell_type": "code",
   "execution_count": 34,
   "id": "7d7d633b-0528-494e-bb8e-111c08b5409c",
   "metadata": {},
   "outputs": [
    {
     "name": "stdout",
     "output_type": "stream",
     "text": [
      "Name: affan\n",
      "Salary: 5000\n"
     ]
    }
   ],
   "source": [
    "employee1.show_details()"
   ]
  },
  {
   "cell_type": "code",
   "execution_count": 35,
   "id": "4bd5f2a8-90cc-4c20-a095-1fe1dfc56ef3",
   "metadata": {},
   "outputs": [
    {
     "data": {
      "text/plain": [
       "'Salary must be greater than 0'"
      ]
     },
     "execution_count": 35,
     "metadata": {},
     "output_type": "execute_result"
    }
   ],
   "source": [
    "employee1.set_salary(-9)"
   ]
  },
  {
   "cell_type": "code",
   "execution_count": 36,
   "id": "f9ebc4c6-b732-4869-8438-058e8514032d",
   "metadata": {},
   "outputs": [
    {
     "name": "stdout",
     "output_type": "stream",
     "text": [
      "Name: affan\n",
      "Salary: 5000\n"
     ]
    }
   ],
   "source": [
    "employee1.show_details()"
   ]
  }
 ],
 "metadata": {
  "kernelspec": {
   "display_name": "Python 3 (ipykernel)",
   "language": "python",
   "name": "python3"
  },
  "language_info": {
   "codemirror_mode": {
    "name": "ipython",
    "version": 3
   },
   "file_extension": ".py",
   "mimetype": "text/x-python",
   "name": "python",
   "nbconvert_exporter": "python",
   "pygments_lexer": "ipython3",
   "version": "3.13.5"
  }
 },
 "nbformat": 4,
 "nbformat_minor": 5
}
