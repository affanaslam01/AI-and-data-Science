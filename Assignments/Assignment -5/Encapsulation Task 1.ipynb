{
 "cells": [
  {
   "cell_type": "code",
   "execution_count": 21,
   "id": "063003c7-41d5-494e-9d04-9f7fbb8ed88d",
   "metadata": {},
   "outputs": [],
   "source": [
    "class BankAccount():\n",
    "    #Constructor\n",
    "    def __init__(self,account_num,balance):\n",
    "    #Private instance attributes\n",
    "        self.__account_number=account_num\n",
    "        self.__balance=balance\n",
    "\n",
    "    #Instance methods\n",
    "    def deposit_amount(self,amount):\n",
    "        self.__balance+=amount\n",
    "        return f\"Your amount of {amount} pkr is depsited\"\n",
    "    def withdraw_amount(self,amount):\n",
    "        if BankAccount.validate_balance(self,amount):\n",
    "            self.__balance-=amount\n",
    "            return f\"Your amount of {amount} pkr has been withdrawed\"\n",
    "        else:\n",
    "            return f\"Insufficient amount to withdraw\"\n",
    "    def get_balance(self):\n",
    "        return f\"Your Balance is {self.__balance} pkr\"\n",
    "    @staticmethod\n",
    "    def validate_balance(self,amount):\n",
    "        if 0<=amount<=self.__balance:\n",
    "            return True\n",
    "        else:\n",
    "            return False\n",
    "    "
   ]
  },
  {
   "cell_type": "code",
   "execution_count": 22,
   "id": "39318714-44b5-4946-b63b-800c2e4e39c0",
   "metadata": {},
   "outputs": [],
   "source": [
    "affan= BankAccount(3664664,5000)"
   ]
  },
  {
   "cell_type": "code",
   "execution_count": 23,
   "id": "f7a1a479-300c-44cd-88c3-92f3a9f33826",
   "metadata": {},
   "outputs": [
    {
     "data": {
      "text/plain": [
       "'Your amount of 500 pkr is depsited'"
      ]
     },
     "execution_count": 23,
     "metadata": {},
     "output_type": "execute_result"
    }
   ],
   "source": [
    "affan.deposit_amount(500)"
   ]
  },
  {
   "cell_type": "code",
   "execution_count": 24,
   "id": "9692f741-c83a-435e-8370-b17df64a8d4f",
   "metadata": {},
   "outputs": [
    {
     "data": {
      "text/plain": [
       "'Your Balance is 5500 pkr'"
      ]
     },
     "execution_count": 24,
     "metadata": {},
     "output_type": "execute_result"
    }
   ],
   "source": [
    "affan.get_balance()"
   ]
  },
  {
   "cell_type": "code",
   "execution_count": 25,
   "id": "8aa8251e-0be0-4991-addc-d9a266952be6",
   "metadata": {},
   "outputs": [
    {
     "data": {
      "text/plain": [
       "'Your amount of 1500 pkr has been withdrawed'"
      ]
     },
     "execution_count": 25,
     "metadata": {},
     "output_type": "execute_result"
    }
   ],
   "source": [
    "affan.withdraw_amount(1500)"
   ]
  },
  {
   "cell_type": "code",
   "execution_count": 26,
   "id": "d711d63d-f8b7-487e-b964-d98599899038",
   "metadata": {},
   "outputs": [
    {
     "data": {
      "text/plain": [
       "'Your Balance is 4000 pkr'"
      ]
     },
     "execution_count": 26,
     "metadata": {},
     "output_type": "execute_result"
    }
   ],
   "source": [
    "affan.get_balance()"
   ]
  },
  {
   "cell_type": "code",
   "execution_count": 28,
   "id": "1b793d8b-0d22-4103-8d8f-dd7a87fa9415",
   "metadata": {},
   "outputs": [
    {
     "data": {
      "text/plain": [
       "'Insufficient amount to withdraw'"
      ]
     },
     "execution_count": 28,
     "metadata": {},
     "output_type": "execute_result"
    }
   ],
   "source": [
    "affan.withdraw_amount(-56)"
   ]
  },
  {
   "cell_type": "code",
   "execution_count": null,
   "id": "e182571b-a798-44f3-a085-5f8a8a1c8e3f",
   "metadata": {},
   "outputs": [],
   "source": []
  },
  {
   "cell_type": "code",
   "execution_count": null,
   "id": "7a9f2b00-b57a-42fc-8946-ebd069031a67",
   "metadata": {},
   "outputs": [],
   "source": []
  }
 ],
 "metadata": {
  "kernelspec": {
   "display_name": "Python 3 (ipykernel)",
   "language": "python",
   "name": "python3"
  },
  "language_info": {
   "codemirror_mode": {
    "name": "ipython",
    "version": 3
   },
   "file_extension": ".py",
   "mimetype": "text/x-python",
   "name": "python",
   "nbconvert_exporter": "python",
   "pygments_lexer": "ipython3",
   "version": "3.13.5"
  }
 },
 "nbformat": 4,
 "nbformat_minor": 5
}
