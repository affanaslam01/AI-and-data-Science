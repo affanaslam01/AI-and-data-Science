{
 "cells": [
  {
   "cell_type": "code",
   "execution_count": 1,
   "id": "65537d02-b04b-4c71-982c-e5fda58a6b68",
   "metadata": {},
   "outputs": [],
   "source": [
    "import numpy as np"
   ]
  },
  {
   "cell_type": "code",
   "execution_count": 2,
   "id": "811d05ad-3f50-4521-ba3e-e4c77b1a2f5e",
   "metadata": {},
   "outputs": [],
   "source": [
    "arr=np.array([\n",
    "    [10,20,30,40],\n",
    "    [50,60,70,80],\n",
    "    [90,100,110,120]\n",
    "])"
   ]
  },
  {
   "cell_type": "code",
   "execution_count": 8,
   "id": "25cf9edc-1845-49a2-bfb7-28cd6657d61c",
   "metadata": {},
   "outputs": [
    {
     "name": "stdout",
     "output_type": "stream",
     "text": [
      "[50 60 70 80]\n"
     ]
    }
   ],
   "source": [
    "# Q1 Extract the second row\n",
    "print(arr[1])"
   ]
  },
  {
   "cell_type": "code",
   "execution_count": 9,
   "id": "57b8218b-4106-4077-97d6-f309fc28bc4f",
   "metadata": {},
   "outputs": [
    {
     "name": "stdout",
     "output_type": "stream",
     "text": [
      "[[20 30]\n",
      " [60 70]]\n"
     ]
    }
   ],
   "source": [
    "# Q2 Extract the first two rows and the second two columns\n",
    "print(arr[0:2,1:3])"
   ]
  },
  {
   "cell_type": "code",
   "execution_count": 17,
   "id": "0591e17d-4c37-4108-84ab-06fd7cc60e56",
   "metadata": {},
   "outputs": [
    {
     "name": "stdout",
     "output_type": "stream",
     "text": [
      "[ 40  80 120]\n"
     ]
    }
   ],
   "source": [
    "# Q3 Extract the last column using slicing\n",
    "print(arr[:3,3])\n"
   ]
  },
  {
   "cell_type": "code",
   "execution_count": 6,
   "id": "71881412-0426-46ee-9e38-a7b0d2825b94",
   "metadata": {},
   "outputs": [],
   "source": [
    "# Q4 Replace the middle row with [1,2,3,4]"
   ]
  },
  {
   "cell_type": "code",
   "execution_count": 18,
   "id": "98ee73fa-566c-43d6-aa26-b39cb6383a4e",
   "metadata": {},
   "outputs": [
    {
     "name": "stdout",
     "output_type": "stream",
     "text": [
      "[[ 10  20  30  40]\n",
      " [  1   2   3   4]\n",
      " [ 90 100 110 120]]\n"
     ]
    }
   ],
   "source": [
    "arr[1,:4]=[1,2,3,4]\n",
    "print(arr)"
   ]
  },
  {
   "cell_type": "code",
   "execution_count": null,
   "id": "22635414-d6af-4899-9cbb-fb033589e5f7",
   "metadata": {},
   "outputs": [],
   "source": []
  }
 ],
 "metadata": {
  "kernelspec": {
   "display_name": "Python 3 (ipykernel)",
   "language": "python",
   "name": "python3"
  },
  "language_info": {
   "codemirror_mode": {
    "name": "ipython",
    "version": 3
   },
   "file_extension": ".py",
   "mimetype": "text/x-python",
   "name": "python",
   "nbconvert_exporter": "python",
   "pygments_lexer": "ipython3",
   "version": "3.13.5"
  }
 },
 "nbformat": 4,
 "nbformat_minor": 5
}
