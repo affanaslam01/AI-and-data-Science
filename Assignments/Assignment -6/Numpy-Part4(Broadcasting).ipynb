{
 "cells": [
  {
   "cell_type": "code",
   "execution_count": 1,
   "id": "083c50d2-dc72-4fe7-bacf-f52a2f7b3873",
   "metadata": {},
   "outputs": [],
   "source": [
    "import numpy as np"
   ]
  },
  {
   "cell_type": "code",
   "execution_count": 4,
   "id": "5f085296-f7ed-49b1-aca4-e92f85e91035",
   "metadata": {},
   "outputs": [
    {
     "name": "stdout",
     "output_type": "stream",
     "text": [
      "[[11 12 13]\n",
      " [14 15 16]\n",
      " [17 18 19]]\n",
      "[[ 2  4  6]\n",
      " [ 5  7  9]\n",
      " [ 8 10 12]]\n",
      "[[ 2  3  4]\n",
      " [ 6  7  8]\n",
      " [10 11 12]]\n"
     ]
    }
   ],
   "source": [
    "# Q1\n",
    "A=np.array([\n",
    "    [1,2,3],\n",
    "    [4,5,6],\n",
    "    [7,8,9]\n",
    "])\n",
    "Scalar_broadcasting=A+10\n",
    "print(Scalar_broadcasting)\n",
    "# Shape prediction (3,3)\n",
    "B=np.array([1,2,3])\n",
    "Row_broadcasting=A+B\n",
    "print(Row_broadcasting)\n",
    "# Shape prediction A=(3,3)B=(1,3) B will expand in (3,3).Result shape will be (3,3)\n",
    "C=np.array([[1],[2],[3]])\n",
    "Column_broadcasting=A+C\n",
    "print(Column_broadcasting)\n",
    "# Shape prediction A=(3,3)B=(3,1) B will expand in (3,3).Result shape will be (3,3)\n"
   ]
  },
  {
   "cell_type": "code",
   "execution_count": null,
   "id": "b9c51e15-d46d-46e1-99cc-1ecfe14d9482",
   "metadata": {},
   "outputs": [],
   "source": []
  }
 ],
 "metadata": {
  "kernelspec": {
   "display_name": "Python 3 (ipykernel)",
   "language": "python",
   "name": "python3"
  },
  "language_info": {
   "codemirror_mode": {
    "name": "ipython",
    "version": 3
   },
   "file_extension": ".py",
   "mimetype": "text/x-python",
   "name": "python",
   "nbconvert_exporter": "python",
   "pygments_lexer": "ipython3",
   "version": "3.13.5"
  }
 },
 "nbformat": 4,
 "nbformat_minor": 5
}
