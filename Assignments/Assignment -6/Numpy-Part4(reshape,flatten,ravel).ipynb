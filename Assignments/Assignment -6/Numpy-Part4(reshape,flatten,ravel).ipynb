{
 "cells": [
  {
   "cell_type": "code",
   "execution_count": 38,
   "id": "249d20bb-384e-475a-9df6-743a611cd7bb",
   "metadata": {},
   "outputs": [],
   "source": [
    "import numpy as np"
   ]
  },
  {
   "cell_type": "code",
   "execution_count": 39,
   "id": "a9fd2df1-ae6d-4a47-a6f6-53187a8e2a89",
   "metadata": {},
   "outputs": [
    {
     "name": "stdout",
     "output_type": "stream",
     "text": [
      "[ 1  2  3  4  5  6  7  8  9 10 11 12]\n"
     ]
    }
   ],
   "source": [
    "# Q1\n",
    "arr=np.arange(1,13)\n",
    "print(arr)"
   ]
  },
  {
   "cell_type": "code",
   "execution_count": 40,
   "id": "c90caaa8-38d7-4074-8712-f11b897486db",
   "metadata": {},
   "outputs": [
    {
     "name": "stdout",
     "output_type": "stream",
     "text": [
      "[[ 1  2  3  4]\n",
      " [ 5  6  7  8]\n",
      " [ 9 10 11 12]]\n"
     ]
    }
   ],
   "source": [
    "new_array_rshape=arr.reshape(3,4)\n",
    "print(new_array_rshape)"
   ]
  },
  {
   "cell_type": "code",
   "execution_count": 41,
   "id": "960259b0-c95d-4f10-bcc0-1846bdcd06e4",
   "metadata": {},
   "outputs": [
    {
     "name": "stdout",
     "output_type": "stream",
     "text": [
      "[[ 1  2  3  4  5  6]\n",
      " [ 7  8  9 10 11 12]]\n"
     ]
    }
   ],
   "source": [
    "second_array_rshape=arr.reshape(2,6)\n",
    "print(second_array_rshape)"
   ]
  },
  {
   "cell_type": "code",
   "execution_count": 42,
   "id": "36c14820-4d74-46da-9984-13702a13efbf",
   "metadata": {},
   "outputs": [],
   "source": [
    "# Q2\n",
    "arr=np.array([\n",
    "    [1,2,3,4,5],\n",
    "    [6,7,8,9,10]\n",
    "])\n"
   ]
  },
  {
   "cell_type": "code",
   "execution_count": 43,
   "id": "b825b3fe-0ff6-4b69-9b94-b81ecee5116d",
   "metadata": {},
   "outputs": [
    {
     "name": "stdout",
     "output_type": "stream",
     "text": [
      "[[ 1  2  3  4  5]\n",
      " [ 6  7  8  9 10]]\n",
      "[ 1  2  3  4  5  6  7  8  9 10]\n",
      "[  1   2 100   4   5   6   7   8   9  10]\n",
      "[[ 1  2  3  4  5]\n",
      " [ 6  7  8  9 10]]\n"
     ]
    }
   ],
   "source": [
    "# Flatten array\n",
    "flatten_array=arr.flatten()\n",
    "print(arr)\n",
    "print(flatten_array)\n",
    "flatten_array[2]=100 # here the modification will occur in flatten array but not in original array\n",
    "print(flatten_array) \n",
    "print(arr)"
   ]
  },
  {
   "cell_type": "code",
   "execution_count": 44,
   "id": "ad93c8ba-4ca7-4e5e-98a1-1d88add89f37",
   "metadata": {},
   "outputs": [
    {
     "name": "stdout",
     "output_type": "stream",
     "text": [
      "[[ 1  2  3  4  5]\n",
      " [ 6  7  8  9 10]]\n",
      "[ 1  2  3  4  5  6  7  8  9 10]\n",
      "[  1   2   3 500   5   6   7   8   9  10]\n",
      "[[  1   2   3 500   5]\n",
      " [  6   7   8   9  10]]\n"
     ]
    }
   ],
   "source": [
    "# Ravel array\n",
    "ravel_array=arr.ravel()\n",
    "print(arr)\n",
    "print(ravel_array)\n",
    "ravel_array[3]=500 # here the modification will occur in ravel array but also in original array\n",
    "print(ravel_array)\n",
    "print(arr)"
   ]
  },
  {
   "cell_type": "code",
   "execution_count": 51,
   "id": "159ebd3c-9709-4563-9954-1320f1ba2626",
   "metadata": {},
   "outputs": [
    {
     "name": "stdout",
     "output_type": "stream",
     "text": [
      "[[1 2 3]\n",
      " [4 5 6]\n",
      " [7 8 9]]\n",
      "[[   1    2    3]\n",
      " [2000    5    6]\n",
      " [   7    8    9]]\n"
     ]
    }
   ],
   "source": [
    "# Q3\n",
    "array=np.arange(1,10).reshape(3,3)\n",
    "flatten_arr=array.flatten()\n",
    "ravel_arr=array.ravel()\n",
    "print(array)\n",
    "flatten_arr[2]=1000\n",
    "ravel_arr[3]=2000\n",
    "print(array)  # here the modification in original array will only occur based on ravel array modification "
   ]
  },
  {
   "cell_type": "code",
   "execution_count": null,
   "id": "e4fe38d2-edef-4724-9740-369b8f5e6d28",
   "metadata": {},
   "outputs": [],
   "source": []
  }
 ],
 "metadata": {
  "kernelspec": {
   "display_name": "Python 3 (ipykernel)",
   "language": "python",
   "name": "python3"
  },
  "language_info": {
   "codemirror_mode": {
    "name": "ipython",
    "version": 3
   },
   "file_extension": ".py",
   "mimetype": "text/x-python",
   "name": "python",
   "nbconvert_exporter": "python",
   "pygments_lexer": "ipython3",
   "version": "3.13.5"
  }
 },
 "nbformat": 4,
 "nbformat_minor": 5
}
