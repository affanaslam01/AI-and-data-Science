{
 "cells": [
  {
   "cell_type": "code",
   "execution_count": 44,
   "id": "3d4d7e00-3649-4e1e-a37e-37e05ecb5216",
   "metadata": {},
   "outputs": [],
   "source": [
    "import numpy as np\n",
    "\n"
   ]
  },
  {
   "cell_type": "code",
   "execution_count": 45,
   "id": "6b651814-0603-45ae-87a6-29eb0d5274ae",
   "metadata": {},
   "outputs": [
    {
     "name": "stdout",
     "output_type": "stream",
     "text": [
      "[[0. 0. 0. 0.]\n",
      " [0. 0. 0. 0.]\n",
      " [0. 0. 0. 0.]\n",
      " [0. 0. 0. 0.]]\n"
     ]
    }
   ],
   "source": [
    "#Q1\n",
    "#Part a\n",
    "zero=np.zeros((4,4))\n",
    "print(zero)"
   ]
  },
  {
   "cell_type": "code",
   "execution_count": 46,
   "id": "cc2748e3-b421-4c61-8ab9-a79ef244c0c3",
   "metadata": {},
   "outputs": [
    {
     "name": "stdout",
     "output_type": "stream",
     "text": [
      "[[1. 1.]\n",
      " [1. 1.]\n",
      " [1. 1.]]\n"
     ]
    }
   ],
   "source": [
    "#Q1\n",
    "#Part b\n",
    "one=np.ones((3,2))\n",
    "print(one)"
   ]
  },
  {
   "cell_type": "code",
   "execution_count": 47,
   "id": "36f46af1-cdb3-4218-83cd-c482a43f93e6",
   "metadata": {},
   "outputs": [
    {
     "name": "stdout",
     "output_type": "stream",
     "text": [
      "[[1. 0. 0. 0. 0.]\n",
      " [0. 1. 0. 0. 0.]\n",
      " [0. 0. 1. 0. 0.]\n",
      " [0. 0. 0. 1. 0.]\n",
      " [0. 0. 0. 0. 1.]]\n"
     ]
    }
   ],
   "source": [
    "#Q1\n",
    "#part c\n",
    "Identity=np.eye(5)\n",
    "print(Identity)"
   ]
  },
  {
   "cell_type": "code",
   "execution_count": 48,
   "id": "981b131f-7d60-4dcd-b511-df2a2220dfb3",
   "metadata": {},
   "outputs": [
    {
     "name": "stdout",
     "output_type": "stream",
     "text": [
      "[[7 7 7 7]\n",
      " [7 7 7 7]\n",
      " [7 7 7 7]]\n"
     ]
    }
   ],
   "source": [
    "#Q1\n",
    "#part d\n",
    "Constant_values=np.full((3,4),7)\n",
    "print(Constant_values)"
   ]
  },
  {
   "cell_type": "code",
   "execution_count": 49,
   "id": "a8fcf2d8-978c-40cb-9837-fdf7fbb252d1",
   "metadata": {},
   "outputs": [
    {
     "name": "stdout",
     "output_type": "stream",
     "text": [
      "[[20 58 85 34]\n",
      " [55 33 91 14]\n",
      " [53 36 74 90]]\n"
     ]
    }
   ],
   "source": [
    "#Q1\n",
    "#part d\n",
    "Random_values=np.random.randint(10,99, size=(3,4))\n",
    "print(Random_values)"
   ]
  },
  {
   "cell_type": "code",
   "execution_count": 50,
   "id": "64d36e50-6f96-49ee-a539-e87b127dba7a",
   "metadata": {},
   "outputs": [
    {
     "data": {
      "text/plain": [
       "array([ 5, 10, 15, 20, 25, 30, 35, 40, 45])"
      ]
     },
     "execution_count": 50,
     "metadata": {},
     "output_type": "execute_result"
    }
   ],
   "source": [
    "# Q2\n",
    "array=np.arange(5,50,5)\n",
    "array"
   ]
  },
  {
   "cell_type": "code",
   "execution_count": 51,
   "id": "474cfce8-19d8-43df-96ab-c961cf739995",
   "metadata": {},
   "outputs": [
    {
     "data": {
      "text/plain": [
       "array([[ 5, 10, 15],\n",
       "       [20, 25, 30],\n",
       "       [35, 40, 45]])"
      ]
     },
     "execution_count": 51,
     "metadata": {},
     "output_type": "execute_result"
    }
   ],
   "source": [
    "array.reshape(3,3)"
   ]
  },
  {
   "cell_type": "code",
   "execution_count": null,
   "id": "e5fd8356-5f51-4f1b-9153-697e4fb6722b",
   "metadata": {},
   "outputs": [],
   "source": []
  }
 ],
 "metadata": {
  "kernelspec": {
   "display_name": "Python 3 (ipykernel)",
   "language": "python",
   "name": "python3"
  },
  "language_info": {
   "codemirror_mode": {
    "name": "ipython",
    "version": 3
   },
   "file_extension": ".py",
   "mimetype": "text/x-python",
   "name": "python",
   "nbconvert_exporter": "python",
   "pygments_lexer": "ipython3",
   "version": "3.13.5"
  }
 },
 "nbformat": 4,
 "nbformat_minor": 5
}
