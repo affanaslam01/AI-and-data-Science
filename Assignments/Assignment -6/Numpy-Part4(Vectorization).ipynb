{
 "cells": [
  {
   "cell_type": "code",
   "execution_count": 11,
   "id": "ce975e4a-3db0-4a9a-b128-0252bbc8d179",
   "metadata": {},
   "outputs": [],
   "source": [
    "import numpy as np"
   ]
  },
  {
   "cell_type": "code",
   "execution_count": 12,
   "id": "ac105a7a-0592-426b-840a-03ebd9db1d45",
   "metadata": {},
   "outputs": [
    {
     "name": "stdout",
     "output_type": "stream",
     "text": [
      "[19 13 17  9 10]\n",
      "[28 15 12 23 27]\n"
     ]
    }
   ],
   "source": [
    "# Q1\n",
    "array_A=np.random.randint(1,20, size=5)\n",
    "array_B=np.random.randint(10,30,size=5)\n",
    "print(array_A)\n",
    "print(array_B)"
   ]
  },
  {
   "cell_type": "code",
   "execution_count": 13,
   "id": "99385295-6c1a-472f-aa84-5403039f82f4",
   "metadata": {},
   "outputs": [
    {
     "name": "stdout",
     "output_type": "stream",
     "text": [
      "[47 28 29 32 37]\n",
      "[ -9  -2   5 -14 -17]\n",
      "[532 195 204 207 270]\n",
      "[0.67857143 0.86666667 1.41666667 0.39130435 0.37037037]\n"
     ]
    }
   ],
   "source": [
    "print(array_A+array_B)\n",
    "print(array_A-array_B)\n",
    "print(array_A*array_B)\n",
    "print(array_A/array_B)"
   ]
  },
  {
   "cell_type": "code",
   "execution_count": 20,
   "id": "2016d003-1447-42a9-939d-294c5dfb79f2",
   "metadata": {},
   "outputs": [
    {
     "name": "stdout",
     "output_type": "stream",
     "text": [
      "Squrae Root= [2.23606798 4.         5.83095189 6.55743852 3.         2.        ]\n",
      "Exponential= [1.48413159e+02 8.88611052e+06 5.83461743e+14 4.72783947e+18\n",
      " 8.10308393e+03 5.45981500e+01]\n",
      "Sine= [-0.95892427 -0.28790332  0.52908269 -0.83177474  0.41211849 -0.7568025 ]\n"
     ]
    }
   ],
   "source": [
    "# Q2\n",
    "arr=np.array([5,16,34,43,9,4,])\n",
    "sqrt_values=np.sqrt(arr)\n",
    "exp_values=np.exp(arr)\n",
    "sin_values=np.sin(arr)\n",
    "print(\"Squrae Root=\",sqrt_values)\n",
    "print(\"Exponential=\",exp_values)\n",
    "print(\"Sine=\",sin_values)"
   ]
  },
  {
   "cell_type": "code",
   "execution_count": 31,
   "id": "f30ab987-1a60-48ee-9eff-b13fbc21a9bf",
   "metadata": {},
   "outputs": [
    {
     "name": "stdout",
     "output_type": "stream",
     "text": [
      "Temperature in Celsius: [35 37 36 29 41 33 32 44 27 31]\n",
      "Temperature in farenheit: [ 95.   98.6  96.8  84.2 105.8  91.4  89.6 111.2  80.6  87.8]\n"
     ]
    }
   ],
   "source": [
    "# Q3\n",
    "Temp_in_Celsius=np.array([35,37,36,29,41,33,32,44,27,31])\n",
    "Temp_in_Farenheit=Temp_in_Celsius*9/5+32\n",
    "print(\"Temperature in Celsius:\",Temp_in_Celsius)\n",
    "print(\"Temperature in farenheit:\",Temp_in_Farenheit)"
   ]
  },
  {
   "cell_type": "code",
   "execution_count": null,
   "id": "ae2c3a9a-6ff9-4048-9f29-3fb6de45802f",
   "metadata": {},
   "outputs": [],
   "source": []
  }
 ],
 "metadata": {
  "kernelspec": {
   "display_name": "Python 3 (ipykernel)",
   "language": "python",
   "name": "python3"
  },
  "language_info": {
   "codemirror_mode": {
    "name": "ipython",
    "version": 3
   },
   "file_extension": ".py",
   "mimetype": "text/x-python",
   "name": "python",
   "nbconvert_exporter": "python",
   "pygments_lexer": "ipython3",
   "version": "3.13.5"
  }
 },
 "nbformat": 4,
 "nbformat_minor": 5
}
