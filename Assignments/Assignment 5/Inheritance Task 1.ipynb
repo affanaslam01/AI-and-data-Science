{
 "cells": [
  {
   "cell_type": "code",
   "execution_count": 15,
   "id": "7fe7d8ed-47d9-4c90-8eff-a0d559f2f3de",
   "metadata": {},
   "outputs": [],
   "source": [
    "#Parent class or super class or base class\n",
    "class Animal():\n",
    "    #Intance method\n",
    "    def make_sound(self):\n",
    "        return \"Animal make sounds\"\n",
    "    "
   ]
  },
  {
   "cell_type": "code",
   "execution_count": 16,
   "id": "33f9e26a-a466-458a-88e9-39c41889d84d",
   "metadata": {},
   "outputs": [],
   "source": [
    "#Child class or derived class\n",
    "class dog(Animal):\n",
    "    def make_sound(self):\n",
    "        return \"Dog Barks\""
   ]
  },
  {
   "cell_type": "code",
   "execution_count": 17,
   "id": "4ddd9b9d-0fba-4cc4-875b-cb0015ba7cf2",
   "metadata": {},
   "outputs": [],
   "source": [
    "animal1=dog()"
   ]
  },
  {
   "cell_type": "code",
   "execution_count": 18,
   "id": "a6bcf0a5-35ba-46ae-8535-7b8f6e92d131",
   "metadata": {},
   "outputs": [
    {
     "data": {
      "text/plain": [
       "'Dog Barks'"
      ]
     },
     "execution_count": 18,
     "metadata": {},
     "output_type": "execute_result"
    }
   ],
   "source": [
    "animal1.make_sound()"
   ]
  },
  {
   "cell_type": "code",
   "execution_count": null,
   "id": "6f26559f-8eff-4632-8e9f-c4c4fd89b29b",
   "metadata": {},
   "outputs": [],
   "source": []
  },
  {
   "cell_type": "code",
   "execution_count": null,
   "id": "696104ef-fd41-4d1a-985e-5b97c04c7821",
   "metadata": {},
   "outputs": [],
   "source": []
  }
 ],
 "metadata": {
  "kernelspec": {
   "display_name": "Python 3 (ipykernel)",
   "language": "python",
   "name": "python3"
  },
  "language_info": {
   "codemirror_mode": {
    "name": "ipython",
    "version": 3
   },
   "file_extension": ".py",
   "mimetype": "text/x-python",
   "name": "python",
   "nbconvert_exporter": "python",
   "pygments_lexer": "ipython3",
   "version": "3.13.5"
  }
 },
 "nbformat": 4,
 "nbformat_minor": 5
}
