{
 "cells": [
  {
   "cell_type": "code",
   "execution_count": 37,
   "id": "4c9ebfba-ff28-4a8b-8f0a-54340a632bb0",
   "metadata": {},
   "outputs": [],
   "source": [
    "class PasswordManager():\n",
    "    #Constructor\n",
    "    def __init__(self,username,password):\n",
    "        #Public attributes\n",
    "        self.username=username\n",
    "        #Private attributes\n",
    "        self.__password=password\n",
    "        #setter method\n",
    "        #Instance methods\n",
    "    def set_password(self,old_password,new_password):\n",
    "        if old_password==self.__password:\n",
    "            self.__password=new_password\n",
    "            return f\"New Password is updated\"\n",
    "        else:\n",
    "            return f\"Enter correct old password to update\"\n",
    "        #check username\n",
    "    def __check_username(self,name):\n",
    "\n",
    "        if name==self.username:\n",
    "            return f\"Entered username is correct\"\n",
    "        else:\n",
    "            return f\"Incorrect username\"\n",
    "    def __check_password(self,password):\n",
    "        if password==self.__password:\n",
    "            return f\"Entered password is correct\"\n",
    "        else:\n",
    "            return f\"Incorrect password\"\n",
    "    def login(self,name,password):\n",
    "        return f\"{self.__check_username(name)} & {self.__check_password(password)}\"\n",
    "            "
   ]
  },
  {
   "cell_type": "code",
   "execution_count": 38,
   "id": "b4d2395a-e8ca-4fe4-a41a-2c2ee06f7322",
   "metadata": {},
   "outputs": [],
   "source": [
    "password1=PasswordManager(\"Ahmed12@gmail.com\",\"ahmed123\")"
   ]
  },
  {
   "cell_type": "code",
   "execution_count": 39,
   "id": "aa2f539b-d523-4613-9d7a-282f1a943730",
   "metadata": {},
   "outputs": [
    {
     "data": {
      "text/plain": [
       "'New Password is updated'"
      ]
     },
     "execution_count": 39,
     "metadata": {},
     "output_type": "execute_result"
    }
   ],
   "source": [
    "password1.set_password(\"ahmed123\",\"ajsks\")"
   ]
  },
  {
   "cell_type": "code",
   "execution_count": 43,
   "id": "8f808382-a534-4807-b238-2ddcd6ba44f4",
   "metadata": {},
   "outputs": [
    {
     "data": {
      "text/plain": [
       "'Entered username is correct & Entered password is correct'"
      ]
     },
     "execution_count": 43,
     "metadata": {},
     "output_type": "execute_result"
    }
   ],
   "source": [
    "password1.login(\"Ahmed12@gmail.com\",\"ajsks\")"
   ]
  },
  {
   "cell_type": "code",
   "execution_count": null,
   "id": "271b38c1-1e3f-47f1-8584-86b2d025f6ac",
   "metadata": {},
   "outputs": [],
   "source": []
  },
  {
   "cell_type": "code",
   "execution_count": null,
   "id": "97e87e23-2915-4f2c-b64b-b1aa7c57146d",
   "metadata": {},
   "outputs": [],
   "source": []
  }
 ],
 "metadata": {
  "kernelspec": {
   "display_name": "Python 3 (ipykernel)",
   "language": "python",
   "name": "python3"
  },
  "language_info": {
   "codemirror_mode": {
    "name": "ipython",
    "version": 3
   },
   "file_extension": ".py",
   "mimetype": "text/x-python",
   "name": "python",
   "nbconvert_exporter": "python",
   "pygments_lexer": "ipython3",
   "version": "3.13.5"
  }
 },
 "nbformat": 4,
 "nbformat_minor": 5
}
