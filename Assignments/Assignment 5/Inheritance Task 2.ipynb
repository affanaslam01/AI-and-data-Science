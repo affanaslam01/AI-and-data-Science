{
 "cells": [
  {
   "cell_type": "code",
   "execution_count": 2,
   "id": "e89db8c1-a099-4f0d-a610-d326867f8fc2",
   "metadata": {},
   "outputs": [],
   "source": [
    "class Vehicle():\n",
    "    #Constructor\n",
    "    def __init__(self,brand,model):\n",
    "        self.brand=brand\n",
    "        self.model=model\n",
    "\n",
    "        "
   ]
  },
  {
   "cell_type": "code",
   "execution_count": 3,
   "id": "05874d2a-9fec-426d-bde7-1fc0ee7c4a6f",
   "metadata": {},
   "outputs": [],
   "source": [
    "class Car(Vehicle):\n",
    "    #Constructor\n",
    "    def __init__(self,b,m,seats):\n",
    "        #parent attributes\n",
    "        super().__init__(b,m)\n",
    "        self.seats=seats"
   ]
  },
  {
   "cell_type": "code",
   "execution_count": 5,
   "id": "b7ce4049-3948-4f18-bc0c-01e536035ed4",
   "metadata": {},
   "outputs": [],
   "source": [
    "car1=Car(\"Toyota\",\"Corolla\",5)"
   ]
  },
  {
   "cell_type": "raw",
   "id": "d4264f40-2204-4fee-b79b-4e4c2f8919cf",
   "metadata": {},
   "source": []
  },
  {
   "cell_type": "code",
   "execution_count": 6,
   "id": "58fcb2e6-1ec9-4c10-9269-774e6b4f3bf7",
   "metadata": {},
   "outputs": [
    {
     "name": "stdout",
     "output_type": "stream",
     "text": [
      "Toyota\n",
      "Corolla\n",
      "5\n"
     ]
    }
   ],
   "source": [
    "print(car1.brand)\n",
    "print(car1.model)\n",
    "print(car1.seats)"
   ]
  },
  {
   "cell_type": "code",
   "execution_count": null,
   "id": "d1000b3b-97f0-4e75-8dab-439d46872168",
   "metadata": {},
   "outputs": [],
   "source": []
  }
 ],
 "metadata": {
  "kernelspec": {
   "display_name": "Python 3 (ipykernel)",
   "language": "python",
   "name": "python3"
  },
  "language_info": {
   "codemirror_mode": {
    "name": "ipython",
    "version": 3
   },
   "file_extension": ".py",
   "mimetype": "text/x-python",
   "name": "python",
   "nbconvert_exporter": "python",
   "pygments_lexer": "ipython3",
   "version": "3.13.5"
  }
 },
 "nbformat": 4,
 "nbformat_minor": 5
}
