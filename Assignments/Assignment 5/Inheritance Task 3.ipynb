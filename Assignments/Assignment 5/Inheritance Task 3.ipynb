{
 "cells": [
  {
   "cell_type": "code",
   "execution_count": 9,
   "id": "b749b6e1-c7e6-4096-a69e-a3b4b7072be3",
   "metadata": {},
   "outputs": [],
   "source": [
    "class GrandParent():\n",
    "    def family_name(self,f_name):\n",
    "        return f\"Family Name: {f_name}\"\n",
    "class Parent(GrandParent):\n",
    "    def occupation(self,occupation):\n",
    "        return f\"Occupation: {occupation}\"\n",
    "class Child(Parent):\n",
    "    def hobby(self,hobby):\n",
    "        return f\"Hobby: {hobby}\""
   ]
  },
  {
   "cell_type": "code",
   "execution_count": 13,
   "id": "c453d1fe-802f-45c5-8514-a3ea94967eab",
   "metadata": {},
   "outputs": [],
   "source": [
    "child1=Child()"
   ]
  },
  {
   "cell_type": "code",
   "execution_count": 23,
   "id": "d107e695-0b91-46da-8e4f-2ec92e6225e2",
   "metadata": {},
   "outputs": [
    {
     "name": "stdout",
     "output_type": "stream",
     "text": [
      "Family Name: Siddiqui\n",
      "Occupation: Business\n",
      "Hobby: Cricket\n"
     ]
    }
   ],
   "source": [
    "print(child1.familyname(\"Siddiqui\"))\n",
    "print(child1.occupation(\"Business\"))\n",
    "print(child1.hobby(\"Cricket\"))"
   ]
  },
  {
   "cell_type": "code",
   "execution_count": null,
   "id": "657f073e-37ef-41c1-98b8-7e28366f4a73",
   "metadata": {},
   "outputs": [],
   "source": []
  }
 ],
 "metadata": {
  "kernelspec": {
   "display_name": "Python 3 (ipykernel)",
   "language": "python",
   "name": "python3"
  },
  "language_info": {
   "codemirror_mode": {
    "name": "ipython",
    "version": 3
   },
   "file_extension": ".py",
   "mimetype": "text/x-python",
   "name": "python",
   "nbconvert_exporter": "python",
   "pygments_lexer": "ipython3",
   "version": "3.13.5"
  }
 },
 "nbformat": 4,
 "nbformat_minor": 5
}
