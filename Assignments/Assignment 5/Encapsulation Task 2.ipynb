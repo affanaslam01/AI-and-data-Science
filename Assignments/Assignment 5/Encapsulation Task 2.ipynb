{
 "cells": [
  {
   "cell_type": "code",
   "execution_count": 152,
   "id": "41b23245-0022-40bc-be8f-3646b089ef55",
   "metadata": {},
   "outputs": [],
   "source": [
    "class Student():\n",
    "    #Constructor\n",
    "    def __init__(self,name,roll_no,marks):\n",
    "        #Private instance attributes\n",
    "        self.__name=name\n",
    "        self.__roll_no=roll_no\n",
    "        self.__marks=marks\n",
    "\n",
    "    #Getter method\n",
    "    #Instance methods\n",
    "    def get_name(self):\n",
    "        return f\"Name: {self.__name}\"\n",
    "    def get_roll_no(self):\n",
    "        return f\"Roll no: {self.__roll_no}\"\n",
    "    def get_marks(self):\n",
    "        return f\"Marks: {self.__marks}\"\n",
    "    #Setter methods\n",
    "    def set_marks(self,new_marks):\n",
    "        if  Student.validate_marks(new_marks):\n",
    "            self.__marks=new_marks\n",
    "            return f\"Marks update to {self.__marks}\"\n",
    "        else:\n",
    "            return f\"Marks should contain value between 0 to 100\"\n",
    "        \n",
    "        \n",
    "    @staticmethod\n",
    "    def validate_marks(new_marks):\n",
    "        if isinstance(new_marks,(int,float)) and 0<=new_marks<=100:\n",
    "                      return True\n",
    "        else:\n",
    "                      return False\n",
    "            \n",
    "    "
   ]
  },
  {
   "cell_type": "code",
   "execution_count": 153,
   "id": "36e9255f-f240-4bb0-851e-ccb54503fe08",
   "metadata": {},
   "outputs": [],
   "source": [
    "student1=Student(\"ahmed\",\"qw373\",67)"
   ]
  },
  {
   "cell_type": "code",
   "execution_count": 154,
   "id": "4ada9917-f2ae-495e-bc0c-64c7f724c7da",
   "metadata": {},
   "outputs": [
    {
     "ename": "AttributeError",
     "evalue": "'Student' object has no attribute 'name'",
     "output_type": "error",
     "traceback": [
      "\u001b[1;31m---------------------------------------------------------------------------\u001b[0m",
      "\u001b[1;31mAttributeError\u001b[0m                            Traceback (most recent call last)",
      "Cell \u001b[1;32mIn[154], line 1\u001b[0m\n\u001b[1;32m----> 1\u001b[0m \u001b[38;5;28mprint\u001b[39m(student1\u001b[38;5;241m.\u001b[39mname)\n",
      "\u001b[1;31mAttributeError\u001b[0m: 'Student' object has no attribute 'name'"
     ]
    }
   ],
   "source": [
    "print(student1.name)"
   ]
  },
  {
   "cell_type": "code",
   "execution_count": 155,
   "id": "130135b3-7f32-41ca-9141-256fb58b8853",
   "metadata": {},
   "outputs": [
    {
     "data": {
      "text/plain": [
       "'Name: ahmed'"
      ]
     },
     "execution_count": 155,
     "metadata": {},
     "output_type": "execute_result"
    }
   ],
   "source": [
    "student1.get_name()"
   ]
  },
  {
   "cell_type": "code",
   "execution_count": 156,
   "id": "058dc5cc-57be-4d7a-9510-59781fe78fb3",
   "metadata": {},
   "outputs": [
    {
     "data": {
      "text/plain": [
       "'Roll no: qw373'"
      ]
     },
     "execution_count": 156,
     "metadata": {},
     "output_type": "execute_result"
    }
   ],
   "source": [
    "student1.get_roll_no()"
   ]
  },
  {
   "cell_type": "code",
   "execution_count": 157,
   "id": "24b1de32-b058-4104-aaa3-ba8fdafc27f4",
   "metadata": {},
   "outputs": [
    {
     "data": {
      "text/plain": [
       "'Marks: 67'"
      ]
     },
     "execution_count": 157,
     "metadata": {},
     "output_type": "execute_result"
    }
   ],
   "source": [
    "student1.get_marks()"
   ]
  },
  {
   "cell_type": "code",
   "execution_count": 162,
   "id": "c43f9b61-1727-4188-856b-39f5f7da6878",
   "metadata": {},
   "outputs": [
    {
     "data": {
      "text/plain": [
       "'Marks update to 97'"
      ]
     },
     "execution_count": 162,
     "metadata": {},
     "output_type": "execute_result"
    }
   ],
   "source": [
    "student1.set_marks(97)"
   ]
  },
  {
   "cell_type": "code",
   "execution_count": 163,
   "id": "ce930ba8-0f54-4e8b-aa55-9d805865f605",
   "metadata": {},
   "outputs": [
    {
     "data": {
      "text/plain": [
       "'Marks: 97'"
      ]
     },
     "execution_count": 163,
     "metadata": {},
     "output_type": "execute_result"
    }
   ],
   "source": [
    "student1.get_marks()"
   ]
  },
  {
   "cell_type": "code",
   "execution_count": null,
   "id": "033fe3cc-9bff-4127-8892-063910f0d626",
   "metadata": {},
   "outputs": [],
   "source": []
  },
  {
   "cell_type": "code",
   "execution_count": null,
   "id": "1a5156b9-b9dc-4c9a-a932-d2084e012205",
   "metadata": {},
   "outputs": [],
   "source": []
  },
  {
   "cell_type": "code",
   "execution_count": null,
   "id": "e545a3d7-e1ad-44f2-9a64-a5341d702737",
   "metadata": {},
   "outputs": [],
   "source": []
  }
 ],
 "metadata": {
  "kernelspec": {
   "display_name": "Python 3 (ipykernel)",
   "language": "python",
   "name": "python3"
  },
  "language_info": {
   "codemirror_mode": {
    "name": "ipython",
    "version": 3
   },
   "file_extension": ".py",
   "mimetype": "text/x-python",
   "name": "python",
   "nbconvert_exporter": "python",
   "pygments_lexer": "ipython3",
   "version": "3.13.5"
  }
 },
 "nbformat": 4,
 "nbformat_minor": 5
}
