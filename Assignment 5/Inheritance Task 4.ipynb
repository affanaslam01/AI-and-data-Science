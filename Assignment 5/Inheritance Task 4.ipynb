{
 "cells": [
  {
   "cell_type": "code",
   "execution_count": 14,
   "id": "28405a82-6ae0-446b-a6c6-adedc4f8ecbc",
   "metadata": {},
   "outputs": [],
   "source": [
    "class Father():\n",
    "    def skills(self):\n",
    "        return \"Scientist\"\n",
    "class Mother():\n",
    "    def skills(self):\n",
    "        return \"Freelancer\"\n",
    "class Child(Father,Mother):\n",
    "    def skills(self):\n",
    "        return Father.skills(self) +\" and \"+ Mother.skills(self)"
   ]
  },
  {
   "cell_type": "code",
   "execution_count": 15,
   "id": "02f9f443-f03e-4e11-a29c-19d6b547dd48",
   "metadata": {},
   "outputs": [],
   "source": [
    "child1=Child()"
   ]
  },
  {
   "cell_type": "code",
   "execution_count": 16,
   "id": "03d29fdd-82d7-4168-acc8-86de08409b1e",
   "metadata": {},
   "outputs": [
    {
     "name": "stdout",
     "output_type": "stream",
     "text": [
      "Scientist and Freelancer\n"
     ]
    }
   ],
   "source": [
    "print(child1.skills())"
   ]
  },
  {
   "cell_type": "code",
   "execution_count": null,
   "id": "4cf4099e-cdd3-4a4c-bd00-906580b01d5c",
   "metadata": {},
   "outputs": [],
   "source": []
  }
 ],
 "metadata": {
  "kernelspec": {
   "display_name": "Python 3 (ipykernel)",
   "language": "python",
   "name": "python3"
  },
  "language_info": {
   "codemirror_mode": {
    "name": "ipython",
    "version": 3
   },
   "file_extension": ".py",
   "mimetype": "text/x-python",
   "name": "python",
   "nbconvert_exporter": "python",
   "pygments_lexer": "ipython3",
   "version": "3.13.5"
  }
 },
 "nbformat": 4,
 "nbformat_minor": 5
}
